{
 "cells": [
  {
   "cell_type": "markdown",
   "metadata": {},
   "source": [
    "# http://cpmarkchang.logdown.com/posts/184948-python-nltk-tree"
   ]
  },
  {
   "cell_type": "code",
   "execution_count": 5,
   "metadata": {
    "collapsed": false
   },
   "outputs": [
    {
     "name": "stdout",
     "output_type": "stream",
     "text": [
      "(S (NP Gary) (VP (VT plays) (NP baseball)))\n"
     ]
    }
   ],
   "source": [
    "# Draw a tree\n",
    "\n",
    "from nltk import Tree\n",
    "\n",
    "tree = Tree('S', [Tree('NP', ['Gary']),\n",
    "                  Tree('VP', [Tree('VT', ['plays']),\n",
    "                              Tree('NP', ['baseball'])])])\n",
    "tree.draw()\n",
    "\n",
    "tree.pprint()"
   ]
  },
  {
   "cell_type": "code",
   "execution_count": 6,
   "metadata": {
    "collapsed": false
   },
   "outputs": [
    {
     "data": {
      "text/plain": [
       "[S -> NP VP, NP -> 'Gary', VP -> VT NP, VT -> 'plays', NP -> 'baseball']"
      ]
     },
     "execution_count": 6,
     "metadata": {},
     "output_type": "execute_result"
    }
   ],
   "source": [
    "tree.productions()"
   ]
  },
  {
   "cell_type": "code",
   "execution_count": 8,
   "metadata": {
    "collapsed": false
   },
   "outputs": [
    {
     "data": {
      "text/plain": [
       "[S -> NP S|<VT-NP>,\n",
       " NP -> 'Gary',\n",
       " S|<VT-NP> -> VT NP,\n",
       " VT -> 'play',\n",
       " NP -> 'baeball']"
      ]
     },
     "execution_count": 8,
     "metadata": {},
     "output_type": "execute_result"
    }
   ],
   "source": [
    "tree2= Tree('S', [ Tree('NP', ['Gary']),\n",
    "                     Tree('VT', ['play']), \n",
    "                     Tree('NP', ['baeball'])])\n",
    "tree2.chomsky_normal_form()\n",
    "tree2.productions()"
   ]
  }
 ],
 "metadata": {
  "kernelspec": {
   "display_name": "Python 3",
   "language": "python",
   "name": "python3"
  },
  "language_info": {
   "codemirror_mode": {
    "name": "ipython",
    "version": 3
   },
   "file_extension": ".py",
   "mimetype": "text/x-python",
   "name": "python",
   "nbconvert_exporter": "python",
   "pygments_lexer": "ipython3",
   "version": "3.4.3"
  }
 },
 "nbformat": 4,
 "nbformat_minor": 0
}
