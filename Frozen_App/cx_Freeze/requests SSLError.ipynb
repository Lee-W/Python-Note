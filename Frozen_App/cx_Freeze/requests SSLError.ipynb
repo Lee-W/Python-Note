{
 "cells": [
  {
   "cell_type": "code",
   "execution_count": 2,
   "metadata": {
    "collapsed": false
   },
   "outputs": [],
   "source": [
    "# Add the following lines into setup.py\n",
    "\n",
    "import os\n",
    "import requests.certs\n",
    "\n",
    "build_exe_options = {\"include_files\" : [(requests.certs.where(),'cacert.pem')]}\n",
    "\n",
    "os.environ[\"REQUESTS_CA_BUNDLE\"] = os.path.join(os.getcwd(), \"cacert.pem\")"
   ]
  },
  {
   "cell_type": "code",
   "execution_count": null,
   "metadata": {
    "collapsed": true
   },
   "outputs": [],
   "source": []
  }
 ],
 "metadata": {
  "kernelspec": {
   "display_name": "Python 3",
   "language": "python",
   "name": "python3"
  },
  "language_info": {
   "codemirror_mode": {
    "name": "ipython",
    "version": 3
   },
   "file_extension": ".py",
   "mimetype": "text/x-python",
   "name": "python",
   "nbconvert_exporter": "python",
   "pygments_lexer": "ipython3",
   "version": "3.4.3"
  }
 },
 "nbformat": 4,
 "nbformat_minor": 0
}
