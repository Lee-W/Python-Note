{
 "cells": [
  {
   "cell_type": "markdown",
   "metadata": {},
   "source": [
    "# Deep Copy a dict"
   ]
  },
  {
   "cell_type": "code",
   "execution_count": 1,
   "metadata": {
    "collapsed": false
   },
   "outputs": [
    {
     "name": "stdout",
     "output_type": "stream",
     "text": [
      "d:  {'b': 2, 'a': 1}\n",
      "d1:  {'b': 2, 'a': 1}\n",
      "d1(after): {'b': 2, 'a': 2}\n",
      "d(after): {'b': 2, 'a': 2}\n"
     ]
    }
   ],
   "source": [
    "import copy\n",
    "\n",
    "d = dict()\n",
    "d[\"a\"] = 1\n",
    "d[\"b\"] = 2\n",
    "print(\"d: \", d)\n",
    "\n",
    "d1 = d\n",
    "print(\"d1: \", d1)\n",
    "\n",
    "d[\"a\"] = 2\n",
    "print(\"d1(after):\", d1)\n",
    "print(\"d(after):\", d)\n"
   ]
  },
  {
   "cell_type": "markdown",
   "metadata": {},
   "source": [
    "We might expect that d1 is not modified.  \n",
    "Thus, deep copy is needed"
   ]
  },
  {
   "cell_type": "code",
   "execution_count": 2,
   "metadata": {
    "collapsed": false
   },
   "outputs": [
    {
     "name": "stdout",
     "output_type": "stream",
     "text": [
      "d2:  {'b': 2, 'a': 2}\n",
      "d2(after): {'b': 2, 'a': 2}\n",
      "d(after): {'b': 2, 'a': 3}\n"
     ]
    }
   ],
   "source": [
    "d2 = copy.deepcopy(d)\n",
    "print(\"d2: \", d2)\n",
    "\n",
    "d[\"a\"] = 3\n",
    "print(\"d2(after):\", d2)\n",
    "print(\"d(after):\", d)"
   ]
  },
  {
   "cell_type": "markdown",
   "metadata": {},
   "source": [
    "Now change d2 doesnot change d."
   ]
  }
 ],
 "metadata": {
  "kernelspec": {
   "display_name": "Python 3",
   "language": "python",
   "name": "python3"
  },
  "language_info": {
   "codemirror_mode": {
    "name": "ipython",
    "version": 3
   },
   "file_extension": ".py",
   "mimetype": "text/x-python",
   "name": "python",
   "nbconvert_exporter": "python",
   "pygments_lexer": "ipython3",
   "version": "3.5.0"
  }
 },
 "nbformat": 4,
 "nbformat_minor": 0
}
