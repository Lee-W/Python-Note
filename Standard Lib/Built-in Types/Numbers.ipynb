{
 "cells": [
  {
   "cell_type": "code",
   "execution_count": 1,
   "metadata": {
    "collapsed": false
   },
   "outputs": [
    {
     "name": "stdout",
     "output_type": "stream",
     "text": [
      "10.0 is integer? True\n",
      "0.5 is integer? False\n",
      "0.5 as integer ratio (1, 2)\n"
     ]
    }
   ],
   "source": [
    "# Float\n",
    "\n",
    "a = 10.0\n",
    "b = 0.5\n",
    "\n",
    "print (a, \"is integer?\", a.is_integer())\n",
    "print (b, \"is integer?\", b.is_integer())\n",
    "\n",
    "print (b, \"as integer ratio\", b.as_integer_ratio())"
   ]
  },
  {
   "cell_type": "code",
   "execution_count": 2,
   "metadata": {
    "collapsed": false
   },
   "outputs": [
    {
     "name": "stdout",
     "output_type": "stream",
     "text": [
      "5/3 (1, 2)\n"
     ]
    }
   ],
   "source": [
    "# Return quotient and remainer\n",
    "a = divmod(5,3)\n",
    "print (\"5/3\", a)"
   ]
  }
 ],
 "metadata": {
  "kernelspec": {
   "display_name": "Python 3",
   "language": "python",
   "name": "python3"
  },
  "language_info": {
   "codemirror_mode": {
    "name": "ipython",
    "version": 3
   },
   "file_extension": ".py",
   "mimetype": "text/x-python",
   "name": "python",
   "nbconvert_exporter": "python",
   "pygments_lexer": "ipython3",
   "version": "3.4.3"
  }
 },
 "nbformat": 4,
 "nbformat_minor": 0
}
